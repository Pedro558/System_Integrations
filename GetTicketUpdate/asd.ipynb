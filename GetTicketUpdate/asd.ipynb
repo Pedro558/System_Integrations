{
 "cells": [
  {
   "cell_type": "code",
   "execution_count": 26,
   "metadata": {},
   "outputs": [
    {
     "data": {
      "text/plain": [
       "True"
      ]
     },
     "execution_count": 26,
     "metadata": {},
     "output_type": "execute_result"
    }
   ],
   "source": [
    "import requests\n",
    "import json\n",
    "\n",
    "url_servicenow = \"https://eleadev.service-now.com/\"\n",
    "\n",
    "refresh_token = \"c9D81Gw4Y9E8Z0LIp6ciqe2hE16F9M2DhGjCUAu6NYGWy_nSQay7r62mvSO_m2A9BP9NizEkk-M9pef932BxXQ\"\n",
    "\n",
    "params_has_it_been_updated = {\n",
    "    \"sysparam_query\": \"\",\n",
    "}\n",
    "\n",
    "def get_auth_token(token):\n",
    "    url = url_servicenow+\"/oauth_token.do\"\n",
    "    body = {\n",
    "        \"grant_type\":\"refresh_token\",\n",
    "        \"client_id\":\"a84352781677f9109fc0a859568b890f\",\n",
    "        \"client_secret\":\"hg2MCxCJ18OgEv%Zn@yz\",\n",
    "        \"refresh_token\":token,\n",
    "    }\n",
    "    response = requests.post(url, data=body)\n",
    "    data = response.json()\n",
    "\n",
    "    return data[\"access_token\"]\n",
    "\n",
    "\n",
    "\n",
    "def does_it_exist(code, params):\n",
    "    #try:\n",
    "        found = False\n",
    "\n",
    "        headers = {\n",
    "            \"Content-Type\": \"application/json\",\n",
    "            \"Accept\": \"application/json\",\n",
    "            \"Authorization\": \"Bearer \"+get_auth_token(refresh_token),\n",
    "        }\n",
    "\n",
    "        params[\"sysparm_query\"] = \"u_ticket_gestao_xLIKE\"+code\n",
    "        response = requests.get(url_servicenow+\"api/now/v2/table/u_integradora_gestao_x\", headers=headers, params=params)\n",
    "\n",
    "        if response.status_code == 200:\n",
    "            data = response.json()\n",
    "            if not 'result' in data or len(data['result']) == 0:\n",
    "                found = False\n",
    "            else:\n",
    "                found = True\n",
    "                \n",
    "            return found\n",
    "        else:\n",
    "            response.raise_for_status()\n",
    "\n",
    "does_it_exist('ELD000007126', params_has_it_been_updated)"
   ]
  }
 ],
 "metadata": {
  "kernelspec": {
   "display_name": "Python 3",
   "language": "python",
   "name": "python3"
  },
  "language_info": {
   "codemirror_mode": {
    "name": "ipython",
    "version": 3
   },
   "file_extension": ".py",
   "mimetype": "text/x-python",
   "name": "python",
   "nbconvert_exporter": "python",
   "pygments_lexer": "ipython3",
   "version": "3.12.1"
  }
 },
 "nbformat": 4,
 "nbformat_minor": 2
}
