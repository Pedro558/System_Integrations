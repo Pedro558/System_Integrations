{
 "cells": [
  {
   "cell_type": "code",
   "execution_count": 1,
   "metadata": {},
   "outputs": [],
   "source": [
    "import datetime\n",
    "from http.client import HTTPException\n",
    "import requests, os, json, time\n",
    "from dotenv import load_dotenv\n",
    "import urllib3\n",
    "urllib3.disable_warnings(urllib3.exceptions.InsecureRequestWarning)\n",
    "\n",
    "load_dotenv(override=True)\n",
    "api_token_test = os.getenv(\"zabbix_api_token_test\")\n",
    "\n",
    "def get_data_test(url, headers, data):\n",
    "    response = requests.post(url=url, headers=headers, data=json.dumps(data), verify=False)\n",
    "    return response \n",
    "    \n",
    "url = \"https://10.11.70.90/zabbix/api_jsonrpc.php\"\n",
    "headers = {\n",
    "    \"Authorization\": f\"Bearer {api_token_test}\",\n",
    "    \"Content-Type\": \"application/json\"\n",
    "}"
   ]
  },
  {
   "cell_type": "code",
   "execution_count": null,
   "metadata": {},
   "outputs": [],
   "source": []
  }
 ],
 "metadata": {
  "kernelspec": {
   "display_name": "venv_System_Integration",
   "language": "python",
   "name": "python3"
  },
  "language_info": {
   "codemirror_mode": {
    "name": "ipython",
    "version": 3
   },
   "file_extension": ".py",
   "mimetype": "text/x-python",
   "name": "python",
   "nbconvert_exporter": "python",
   "pygments_lexer": "ipython3",
   "version": "3.11.3"
  }
 },
 "nbformat": 4,
 "nbformat_minor": 2
}
